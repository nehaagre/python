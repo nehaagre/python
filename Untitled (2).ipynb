{
 "cells": [
  {
   "cell_type": "markdown",
   "id": "9b140b35",
   "metadata": {},
   "source": [
    "# Python Topics Revision"
   ]
  },
  {
   "cell_type": "code",
   "execution_count": 43,
   "id": "42c20669",
   "metadata": {},
   "outputs": [],
   "source": [
    "def moveZeroes(nums):\n",
    "        \"\"\"\n",
    "        :type nums: List[int]\n",
    "        :rtype: void Do not return anything, modify nums in-place instead.\n",
    "        \"\"\"\n",
    "        l = len(nums)\n",
    "        i = 0\n",
    "        while i < l:\n",
    "            if nums[i] == 0:\n",
    "                print(\"hi\")\n",
    "                nums.append(nums.pop(i))\n",
    "                print(nums)\n",
    "                l -= 1\n",
    "            else:\n",
    "                i += 1"
   ]
  },
  {
   "cell_type": "code",
   "execution_count": 46,
   "id": "d41e793d",
   "metadata": {},
   "outputs": [
    {
     "name": "stdout",
     "output_type": "stream",
     "text": [
      "[6, 0, 8, 2, 0, 3, 0, 4, 0, 1]\n",
      "hi\n",
      "[6, 8, 2, 0, 3, 0, 4, 0, 1, 0]\n",
      "hi\n",
      "[6, 8, 2, 3, 0, 4, 0, 1, 0, 0]\n",
      "hi\n",
      "[6, 8, 2, 3, 4, 0, 1, 0, 0, 0]\n",
      "hi\n",
      "[6, 8, 2, 3, 4, 1, 0, 0, 0, 0]\n"
     ]
    }
   ],
   "source": [
    "A = [6, 0, 8, 2,0, 3, 0, 4, 0, 1]\n",
    "print(A)\n",
    "moveZeroes(A)\n"
   ]
  },
  {
   "cell_type": "code",
   "execution_count": null,
   "id": "92578366",
   "metadata": {},
   "outputs": [],
   "source": [
    "def moveZeroes(nums):\n",
    "        \"\"\"\n",
    "        :type nums: List[int]\n",
    "        :rtype: void Do not return anything, modify nums in-place instead.\n",
    "        \"\"\"\n",
    "        l = len(nums)\n",
    "        i = 0\n",
    "        while i < l:\n",
    "            if nums[i] == 0:\n",
    "                print(\"hi\")\n",
    "                nums.append(nums.pop(i))\n",
    "                print(nums)\n",
    "                l -= 1\n",
    "            else:\n",
    "                i += 1"
   ]
  },
  {
   "cell_type": "code",
   "execution_count": 38,
   "id": "cdf560a1",
   "metadata": {},
   "outputs": [
    {
     "name": "stdout",
     "output_type": "stream",
     "text": [
      "4\n",
      "[6, 8, 2, 3, 4, 1]\n",
      "[6, 0, 8, 2, 0, 0, 0, 0, 0, 0]\n"
     ]
    }
   ],
   "source": [
    "A = [6, 0, 8, 2,0, 3, 0, 4, 0, 1]\n",
    "\n",
    "print(A.count(0))\n",
    "\n",
    "X = [i for i in A if i != 0]\n",
    "print(X)\n",
    "\n",
    "for i in range(A.count(0),len(A)):\n",
    "    A[i]=0\n",
    "print(A)"
   ]
  },
  {
   "cell_type": "code",
   "execution_count": 16,
   "id": "592ecc31",
   "metadata": {},
   "outputs": [],
   "source": [
    "A = [6, 0, 8, 2,0, 3, 0, 4, 0, 1]\n",
    "\n",
    "\n",
    "def move_zeroo(new_list):\n",
    "    index=0\n",
    "    for item in new_list:\n",
    "        if item:\n",
    "            new_list[index]=item\n",
    "            index=index+1\n",
    "        print(new_list)  \n",
    "        print(index)\n",
    "    for i in range(index,len(new_list)):\n",
    "        new_list[i]=0\n",
    "    print(new_list)  \n",
    "    "
   ]
  },
  {
   "cell_type": "code",
   "execution_count": 17,
   "id": "694beff5",
   "metadata": {},
   "outputs": [
    {
     "name": "stdout",
     "output_type": "stream",
     "text": [
      "[6, 0, 8, 2, 0, 3, 0, 4, 0, 1]\n",
      "1\n",
      "[6, 0, 8, 2, 0, 3, 0, 4, 0, 1]\n",
      "1\n",
      "[6, 8, 8, 2, 0, 3, 0, 4, 0, 1]\n",
      "2\n",
      "[6, 8, 2, 2, 0, 3, 0, 4, 0, 1]\n",
      "3\n",
      "[6, 8, 2, 2, 0, 3, 0, 4, 0, 1]\n",
      "3\n",
      "[6, 8, 2, 3, 0, 3, 0, 4, 0, 1]\n",
      "4\n",
      "[6, 8, 2, 3, 0, 3, 0, 4, 0, 1]\n",
      "4\n",
      "[6, 8, 2, 3, 4, 3, 0, 4, 0, 1]\n",
      "5\n",
      "[6, 8, 2, 3, 4, 3, 0, 4, 0, 1]\n",
      "5\n",
      "[6, 8, 2, 3, 4, 1, 0, 4, 0, 1]\n",
      "6\n",
      "[6, 8, 2, 3, 4, 1, 0, 0, 0, 0]\n"
     ]
    }
   ],
   "source": [
    "move_zeroo(A)"
   ]
  },
  {
   "cell_type": "code",
   "execution_count": null,
   "id": "5998e20f",
   "metadata": {},
   "outputs": [],
   "source": []
  },
  {
   "cell_type": "code",
   "execution_count": null,
   "id": "564a8505",
   "metadata": {},
   "outputs": [],
   "source": []
  },
  {
   "cell_type": "code",
   "execution_count": 177,
   "id": "fd67a28d",
   "metadata": {},
   "outputs": [
    {
     "data": {
      "text/plain": [
       "('jan', 'feb', 'march', 'april')"
      ]
     },
     "execution_count": 177,
     "metadata": {},
     "output_type": "execute_result"
    }
   ],
   "source": [
    "new_tuple=(\"jan\",\"feb\",\"march\",\"april\") # imutable\n",
    "new_tuple"
   ]
  },
  {
   "cell_type": "code",
   "execution_count": 178,
   "id": "4e33c154",
   "metadata": {},
   "outputs": [
    {
     "ename": "TypeError",
     "evalue": "'tuple' object does not support item assignment",
     "output_type": "error",
     "traceback": [
      "\u001b[0;31m---------------------------------------------------------------------------\u001b[0m",
      "\u001b[0;31mTypeError\u001b[0m                                 Traceback (most recent call last)",
      "\u001b[0;32m/var/folders/5p/f9n8xtwn5c9_kq2bc72mf9p00000gn/T/ipykernel_46866/3726516206.py\u001b[0m in \u001b[0;36m<module>\u001b[0;34m\u001b[0m\n\u001b[0;32m----> 1\u001b[0;31m \u001b[0mnew_tuple\u001b[0m\u001b[0;34m[\u001b[0m\u001b[0;36m0\u001b[0m\u001b[0;34m]\u001b[0m\u001b[0;34m=\u001b[0m\u001b[0;34m\"dec\"\u001b[0m\u001b[0;34m\u001b[0m\u001b[0;34m\u001b[0m\u001b[0m\n\u001b[0m",
      "\u001b[0;31mTypeError\u001b[0m: 'tuple' object does not support item assignment"
     ]
    }
   ],
   "source": [
    "new_tuple[0]=\"dec\""
   ]
  },
  {
   "cell_type": "code",
   "execution_count": 180,
   "id": "8f0ed4a6",
   "metadata": {},
   "outputs": [
    {
     "data": {
      "text/plain": [
       "{'jack': 123, 'sam': 3423, 'king': 773, 'student_list': ['a', 'b', 'c']}"
      ]
     },
     "execution_count": 180,
     "metadata": {},
     "output_type": "execute_result"
    }
   ],
   "source": [
    "new_dict={\n",
    "    \"jack\":123,\n",
    "    \"sam\":3423,\n",
    "    \"king\":773,\n",
    "    \"student_list\":[\"a\",\"b\",\"c\"]\n",
    "}\n",
    "new_dict"
   ]
  },
  {
   "cell_type": "code",
   "execution_count": 181,
   "id": "cfd9eb7e",
   "metadata": {},
   "outputs": [
    {
     "name": "stdout",
     "output_type": "stream",
     "text": [
      "123\n",
      "3423\n",
      "773\n",
      "['a', 'b', 'c']\n"
     ]
    }
   ],
   "source": [
    "for key in new_dict.keys():\n",
    "    print(new_dict[key])"
   ]
  },
  {
   "cell_type": "code",
   "execution_count": 185,
   "id": "cc49804b",
   "metadata": {},
   "outputs": [
    {
     "name": "stdout",
     "output_type": "stream",
     "text": [
      "jack\n",
      "sam\n",
      "king\n",
      "student_list\n"
     ]
    }
   ],
   "source": [
    "for key in new_dict.keys():\n",
    "    print(key)"
   ]
  },
  {
   "cell_type": "code",
   "execution_count": 186,
   "id": "92fc49f0",
   "metadata": {},
   "outputs": [
    {
     "name": "stdout",
     "output_type": "stream",
     "text": [
      "('jack', 123)\n",
      "('sam', 3423)\n",
      "('king', 773)\n",
      "('student_list', ['a', 'b', 'c'])\n"
     ]
    }
   ],
   "source": [
    "for key in new_dict.items():\n",
    "    print(key)"
   ]
  },
  {
   "cell_type": "code",
   "execution_count": 209,
   "id": "efd06d0a",
   "metadata": {},
   "outputs": [
    {
     "name": "stdout",
     "output_type": "stream",
     "text": [
      "['John', 'SG101', '$10,000']\n",
      "{'emp1': {'e_name': 'John', 'e_id': 'SG101', 'e_sal': '$10,000'}}\n",
      "['Smith', 'SG102', '$9,000']\n",
      "{'emp1': {'e_name': 'Smith', 'e_id': 'SG102', 'e_sal': '$9,000'}}\n",
      "['Peter', 'SG103', '$9,500']\n",
      "{'emp1': {'e_name': 'Peter', 'e_id': 'SG103', 'e_sal': '$9,500'}}\n"
     ]
    }
   ],
   "source": [
    "# Create a dictionary out of below inputs\n",
    "lst1 = ['emp1', 'emp2', 'emp3']\n",
    "# emp_key = ['e_name', 'e_id', 'e_sal']\n",
    "# emp1_val = ['John', 'SG101', '$10,000']\n",
    "# emp2_val = ['Smith', 'SG102', '$9,000']\n",
    "# emp3_val = ['Peter', 'SG103', '$9,500']\n",
    "\n",
    "# Expected Output:- {'emp1':{'e_name':'John', 'e_id':'SG101', 'e_sal':$10,000}, \n",
    "#                    'emp2':{'e_name':'Smith', 'e_id':'SG102', 'e_sal':$9,000}, \n",
    "#                    'emp3':{'e_name':'Peter', 'e_id':'SG103', 'e_sal':$9,500}}\n",
    "\n",
    "lst = ['emp1', 'emp2', 'emp3']\n",
    "emp_key = ['e_name', 'e_id', 'e_sal']\n",
    "emp1_val = ['John', 'SG101', '$10,000']\n",
    "emp2_val = ['Smith', 'SG102', '$9,000']\n",
    "emp3_val = ['Peter', 'SG103', '$9,500']\n",
    "\n",
    "for i in [emp1_val,emp2_val,emp3_val]:\n",
    "    dic = dict(zip(lst,[dict(zip(emp_key, i))]))\n",
    "    print(dic)"
   ]
  },
  {
   "cell_type": "code",
   "execution_count": null,
   "id": "61dc9ea0",
   "metadata": {},
   "outputs": [],
   "source": [
    "lst = ['emp1', 'emp2', 'emp3']\n",
    "emp_key = ['e_name', 'e_id', 'e_sal']\n",
    "emp1_val = ['John', 'SG101', '$10,000']\n",
    "emp2_val = ['Smith', 'SG102', '$9,000']\n",
    "emp3_val = ['Peter', 'SG103', '$9,500']\n",
    "\n",
    "\n",
    "dic = dict(zip(lst, [dict(zip(emp_key, i)) for i in [emp1_val,emp2_val,emp3_val]]))\n",
    "print(dic)"
   ]
  },
  {
   "cell_type": "code",
   "execution_count": 210,
   "id": "34c84dcd",
   "metadata": {},
   "outputs": [
    {
     "data": {
      "text/plain": [
       "{'emp1': {'e_name': 'Smith', 'e_id': 'SG102', 'e_sal': '$9,000'},\n",
       " 'emp2': {'e_name': 'Smith', 'e_id': 'SG102', 'e_sal': '$9,000'},\n",
       " 'emp3': {'e_name': 'Peter', 'e_id': 'SG103', 'e_sal': '$9,500'}}"
      ]
     },
     "execution_count": 210,
     "metadata": {},
     "output_type": "execute_result"
    }
   ],
   "source": [
    "lst = ['emp1', 'emp2', 'emp3']\n",
    "emp_key = ['e_name', 'e_id', 'e_sal']\n",
    "emp1_val = ['John', 'SG101', '$10,000']\n",
    "emp2_val = ['Smith', 'SG102', '$9,000']\n",
    "emp3_val = ['Peter', 'SG103', '$9,500']\n",
    "\n",
    "\n",
    "d1=dict(zip(emp_key,emp1_val))\n",
    "d2=dict(zip(emp_key,emp2_val))\n",
    "d3=dict(zip(emp_key,emp3_val))\n",
    "d4={}\n",
    "d4.update({lst1[0]:d2})\n",
    "d4.update({lst1[1]:d2})\n",
    "d4.update({lst1[2]:d3})\n",
    "d4"
   ]
  },
  {
   "cell_type": "code",
   "execution_count": 205,
   "id": "543c05c7",
   "metadata": {},
   "outputs": [
    {
     "data": {
      "text/plain": [
       "{'emp1': {'e_name': 'John', 'e_id': 'SG101', 'e_sal': '$10,000'},\n",
       " 'emp2': {'e_name': 'Smith', 'e_id': 'SG102', 'e_sal': '$9,000'},\n",
       " 'emp3': {'e_name': 'Peter', 'e_id': 'SG103', 'e_sal': '$9,500'}}"
      ]
     },
     "execution_count": 205,
     "metadata": {},
     "output_type": "execute_result"
    }
   ],
   "source": [
    "d1=dict(zip(emp_key,emp1_val))\n",
    "d2=dict(zip(emp_key,emp2_val))\n",
    "d3=dict(zip(emp_key,emp3_val))\n",
    "final_dict={}\n",
    "\n",
    "final_dict[\"emp1\"]=d1\n",
    "final_dict[\"emp2\"]=d2\n",
    "final_dict[\"emp3\"]=d3\n",
    "final_dict"
   ]
  },
  {
   "cell_type": "code",
   "execution_count": null,
   "id": "99aa2f00",
   "metadata": {},
   "outputs": [],
   "source": [
    "def swap_values(dict1,dict2,key):\n",
    "    dict1[key]=dict2.get(key)\n",
    "    "
   ]
  },
  {
   "cell_type": "code",
   "execution_count": 216,
   "id": "602153f6",
   "metadata": {},
   "outputs": [
    {
     "name": "stdout",
     "output_type": "stream",
     "text": [
      "35\n",
      "35\n",
      "35\n",
      "35\n",
      "35\n"
     ]
    }
   ],
   "source": [
    "import random\n",
    "# random.seed(345)\n",
    "for i in range(5):\n",
    "    random.seed(45)\n",
    "    print(random.randint(1,100))"
   ]
  },
  {
   "cell_type": "code",
   "execution_count": 239,
   "id": "11da5256",
   "metadata": {},
   "outputs": [
    {
     "name": "stdout",
     "output_type": "stream",
     "text": [
      "[[34, 2], [244, 3, 90, 12], [90, 12]]\n"
     ]
    }
   ],
   "source": [
    "new_list=[[34,2],[244,3],[35,11],[90,12]]\n",
    "\n",
    "final_list=[]\n",
    "for index,item in enumerate(new_list):\n",
    "    if index==1 or index==3:\n",
    "        final_list.append(item[0])\n",
    "        final_list.append(item[1])\n",
    "        new_list[1]=final_list\n",
    "new_list.pop(2)\n",
    "print(new_list)"
   ]
  },
  {
   "cell_type": "code",
   "execution_count": 241,
   "id": "90bb49ac",
   "metadata": {},
   "outputs": [
    {
     "data": {
      "text/plain": [
       "[2, 4, 6, 8, 10, 12, 14, 16, 18]"
      ]
     },
     "execution_count": 241,
     "metadata": {},
     "output_type": "execute_result"
    }
   ],
   "source": [
    "new_list=[]\n",
    "for i in range(1,20):\n",
    "    if i%2==0:\n",
    "        new_list.append(i)\n",
    "        \n",
    "new_list"
   ]
  },
  {
   "cell_type": "code",
   "execution_count": 243,
   "id": "062d00a2",
   "metadata": {},
   "outputs": [
    {
     "data": {
      "text/plain": [
       "[1, 2, 3, 4, 5, 6, 7, 8, 9, 10, 11, 12, 13, 14, 15, 16, 17, 18, 19]"
      ]
     },
     "execution_count": 243,
     "metadata": {},
     "output_type": "execute_result"
    }
   ],
   "source": [
    "#syntax ---[exp loop condition]\n",
    "new_list=[i for i in range(1,20) if i%2==0]\n",
    "new_list"
   ]
  },
  {
   "cell_type": "code",
   "execution_count": 248,
   "id": "652bb921",
   "metadata": {},
   "outputs": [
    {
     "data": {
      "text/plain": [
       "{0: 2, 1: 3, 2: 4, 3: 5, 4: 6, 5: 7, 6: 8, 7: 9, 8: 10, 9: 11}"
      ]
     },
     "execution_count": 248,
     "metadata": {},
     "output_type": "execute_result"
    }
   ],
   "source": [
    "new_dict={i:i+2 for i in range(10)}\n",
    "new_dict"
   ]
  },
  {
   "cell_type": "code",
   "execution_count": 217,
   "id": "95f19ffc",
   "metadata": {},
   "outputs": [
    {
     "name": "stdout",
     "output_type": "stream",
     "text": [
      "35\n",
      "54\n",
      "63\n",
      "33\n",
      "11\n"
     ]
    }
   ],
   "source": [
    "import random\n",
    "random.seed(45)\n",
    "for i in range(5):\n",
    "    print(random.randint(1,100))"
   ]
  },
  {
   "cell_type": "code",
   "execution_count": null,
   "id": "27d940db",
   "metadata": {},
   "outputs": [],
   "source": [
    "Write a function that converts a dictionary back to its sparse vector representation.\n",
    "    1. In - convertDictionary({0: 1, 3: 2, 7: 3, 12: 4})\n",
    "\n",
    "      Out - [1, 0, 0, 2, 0, 0, 0, 3, 0, 0, 0, 0, 4]"
   ]
  },
  {
   "cell_type": "code",
   "execution_count": 263,
   "id": "ed5b46a1",
   "metadata": {},
   "outputs": [
    {
     "name": "stdout",
     "output_type": "stream",
     "text": [
      "[[[0 1]\n",
      "  [2 3]]\n",
      "\n",
      " [[4 5]\n",
      "  [6 7]]]\n"
     ]
    },
    {
     "data": {
      "text/plain": [
       "array([6, 8])"
      ]
     },
     "execution_count": 263,
     "metadata": {},
     "output_type": "execute_result"
    }
   ],
   "source": [
    "import numpy as np\n",
    "a = np.arange(8).reshape((2,2,2))\n",
    "\n",
    "print(a)\n",
    "np.trace(a)"
   ]
  },
  {
   "cell_type": "code",
   "execution_count": 264,
   "id": "8c68f484",
   "metadata": {},
   "outputs": [
    {
     "data": {
      "text/plain": [
       "array([ 9, 12])"
      ]
     },
     "execution_count": 264,
     "metadata": {},
     "output_type": "execute_result"
    }
   ],
   "source": [
    "arr = np.array([[[1, 2], [2, 3], [3, 4]], [\n",
    "               [4, 5], [4, 5], [3, 4]], [[5, 6], [4, 5], [4, 5]]])\n",
    "\n",
    "\n",
    "np.trace(arr)"
   ]
  },
  {
   "cell_type": "code",
   "execution_count": 265,
   "id": "17058e42",
   "metadata": {},
   "outputs": [
    {
     "name": "stdout",
     "output_type": "stream",
     "text": [
      "[[0 1 2]\n",
      " [3 4 5]\n",
      " [6 7 8]]\n",
      "12.0\n"
     ]
    }
   ],
   "source": [
    "import numpy as np\n",
    "\n",
    "# creating an array\n",
    "myarray = np.arange(9).reshape((3,3))\n",
    "\n",
    "# implementing the diag() function \n",
    "sumdiag = np.trace(myarray, dtype = float)\n",
    "\n",
    "print(myarray)\n",
    "print(sumdiag)"
   ]
  },
  {
   "cell_type": "code",
   "execution_count": 268,
   "id": "88b198ea",
   "metadata": {},
   "outputs": [
    {
     "name": "stdout",
     "output_type": "stream",
     "text": [
      "1\n",
      "2\n",
      "2\n",
      "6\n",
      "99\n",
      "99\n",
      "7\n"
     ]
    }
   ],
   "source": [
    "new=[1, 2, 2, 6, 99, 99, 7]\n",
    "\n",
    "for i in range(len(new)):\n",
    "    print(new[i])"
   ]
  },
  {
   "cell_type": "code",
   "execution_count": 266,
   "id": "61adde45",
   "metadata": {},
   "outputs": [
    {
     "ename": "SyntaxError",
     "evalue": "invalid syntax (519095390.py, line 1)",
     "output_type": "error",
     "traceback": [
      "\u001b[0;36m  File \u001b[0;32m\"/var/folders/5p/f9n8xtwn5c9_kq2bc72mf9p00000gn/T/ipykernel_46866/519095390.py\"\u001b[0;36m, line \u001b[0;32m1\u001b[0m\n\u001b[0;31m    company:\u001b[0m\n\u001b[0m            ^\u001b[0m\n\u001b[0;31mSyntaxError\u001b[0m\u001b[0;31m:\u001b[0m invalid syntax\n"
     ]
    }
   ],
   "source": [
    "company:\n",
    "    \n",
    "1st and 2nd --python coding rounds\n",
    "ML\n",
    "DL\n",
    "NLP\n",
    "AWS\n",
    "PROJECTS\n",
    "CERTFICATE"
   ]
  },
  {
   "cell_type": "code",
   "execution_count": null,
   "id": "7fba17fa",
   "metadata": {},
   "outputs": [],
   "source": [
    "ML:\n",
    "    \n",
    "Algos\n",
    "\n",
    "4 lines of code\n",
    "\n",
    "from sklearn.model import SVM\n",
    "obj=LR()\n",
    " \n",
    "obj.fit()\n",
    "\n",
    "obj.predict()"
   ]
  },
  {
   "cell_type": "code",
   "execution_count": null,
   "id": "b09f9468",
   "metadata": {},
   "outputs": [],
   "source": []
  },
  {
   "cell_type": "code",
   "execution_count": null,
   "id": "01e519fa",
   "metadata": {},
   "outputs": [],
   "source": []
  },
  {
   "cell_type": "code",
   "execution_count": null,
   "id": "5b75200d",
   "metadata": {},
   "outputs": [],
   "source": []
  },
  {
   "cell_type": "code",
   "execution_count": 250,
   "id": "e6027cd6",
   "metadata": {},
   "outputs": [
    {
     "name": "stdout",
     "output_type": "stream",
     "text": [
      "0\n",
      "3\n",
      "7\n",
      "12\n",
      "[1, 0, 0, 2, 0, 0, 0, 3, 0, 0, 0, 0, 4]\n"
     ]
    }
   ],
   "source": [
    "def convertDictionary(mydict):\n",
    "    mysparsematrix=[]\n",
    "    myindex=0\n",
    "    for mykeyindex in mydict:\n",
    "        if mykeyindex!=myindex:\n",
    "            for j in range(mykeyindex-myindex):\n",
    "                mysparsematrix.append(0)\n",
    "                myindex+=1\n",
    "        if mykeyindex==myindex:\n",
    "            mysparsematrix.append(mydict[mykeyindex])\n",
    "            myindex+=1\n",
    "    return (mysparsematrix)\n",
    "\n",
    "inputdict={0: 1, 3: 2, 7: 3, 12: 4}\n",
    "retmatrix=convertDictionary(inputdict)\n",
    "print (retmatrix)"
   ]
  },
  {
   "cell_type": "code",
   "execution_count": null,
   "id": "427976d3",
   "metadata": {},
   "outputs": [],
   "source": []
  },
  {
   "cell_type": "code",
   "execution_count": null,
   "id": "2da4adae",
   "metadata": {},
   "outputs": [],
   "source": [
    "1.know the basic and its working and the concept\n",
    "2.and than solve problem...."
   ]
  },
  {
   "cell_type": "code",
   "execution_count": null,
   "id": "d8f5b7f9",
   "metadata": {},
   "outputs": [],
   "source": []
  },
  {
   "cell_type": "code",
   "execution_count": 208,
   "id": "fd28991e",
   "metadata": {},
   "outputs": [
    {
     "data": {
      "text/plain": [
       "{'emp1': {'e_name': 'John', 'e_id': 'SG101', 'e_sal': '$10,000'},\n",
       " 'emp2': {'e_name': 'Smith', 'e_id': 'SG102', 'e_sal': '$9,000'},\n",
       " 'emp3': {'e_name': 'Peter', 'e_id': 'SG103', 'e_sal': '$9,500'}}"
      ]
     },
     "execution_count": 208,
     "metadata": {},
     "output_type": "execute_result"
    }
   ],
   "source": [
    "lst = ['emp1', 'emp2', 'emp3']\n",
    "emp_key = ['e_name', 'e_id', 'e_sal']\n",
    "emp1_val = ['John', 'SG101', '$10,000']\n",
    "emp2_val = ['Smith', 'SG102', '$9,000']\n",
    "emp3_val = ['Peter', 'SG103', '$9,500']\n",
    "\n",
    "\n",
    "dic = dict(zip(lst, [dict(zip(emp_key, i)) for i in [emp1_val,emp2_val,emp3_val]]))\n",
    "dic"
   ]
  },
  {
   "cell_type": "code",
   "execution_count": 202,
   "id": "980aa823",
   "metadata": {},
   "outputs": [
    {
     "ename": "ValueError",
     "evalue": "dictionary update sequence element #0 has length 4; 2 is required",
     "output_type": "error",
     "traceback": [
      "\u001b[0;31m---------------------------------------------------------------------------\u001b[0m",
      "\u001b[0;31mValueError\u001b[0m                                Traceback (most recent call last)",
      "\u001b[0;32m/var/folders/5p/f9n8xtwn5c9_kq2bc72mf9p00000gn/T/ipykernel_46866/2977083537.py\u001b[0m in \u001b[0;36m<module>\u001b[0;34m\u001b[0m\n\u001b[1;32m      3\u001b[0m \u001b[0;34m\u001b[0m\u001b[0m\n\u001b[1;32m      4\u001b[0m \u001b[0;32mfor\u001b[0m \u001b[0mi\u001b[0m \u001b[0;32min\u001b[0m \u001b[0mzip\u001b[0m\u001b[0;34m(\u001b[0m\u001b[0ma\u001b[0m\u001b[0;34m,\u001b[0m\u001b[0mb\u001b[0m\u001b[0;34m)\u001b[0m\u001b[0;34m:\u001b[0m\u001b[0;34m\u001b[0m\u001b[0;34m\u001b[0m\u001b[0m\n\u001b[0;32m----> 5\u001b[0;31m     \u001b[0mprint\u001b[0m\u001b[0;34m(\u001b[0m\u001b[0mdict\u001b[0m\u001b[0;34m(\u001b[0m\u001b[0mi\u001b[0m\u001b[0;34m)\u001b[0m\u001b[0;34m)\u001b[0m\u001b[0;34m\u001b[0m\u001b[0;34m\u001b[0m\u001b[0m\n\u001b[0m",
      "\u001b[0;31mValueError\u001b[0m: dictionary update sequence element #0 has length 4; 2 is required"
     ]
    }
   ],
   "source": [
    "#convert \n",
    "df[\"col\"]=df.fillna(df[\"col\"].mean())"
   ]
  },
  {
   "cell_type": "code",
   "execution_count": null,
   "id": "f8f9b526",
   "metadata": {},
   "outputs": [],
   "source": []
  },
  {
   "cell_type": "code",
   "execution_count": null,
   "id": "9a35d959",
   "metadata": {},
   "outputs": [],
   "source": []
  },
  {
   "cell_type": "code",
   "execution_count": 193,
   "id": "18e269d8",
   "metadata": {},
   "outputs": [
    {
     "data": {
      "text/plain": [
       "{'emp1': {'e_name': 'John', 'e_id': 'SG101', 'e_sal': '$10,000'},\n",
       " 'emp2': {'e_name': 'Smith', 'e_id': 'SG102', 'e_sal': '$9,000'},\n",
       " 'emp3': {'e_name': 'Peter', 'e_id': 'SG103', 'e_sal': '$9,500'}}"
      ]
     },
     "execution_count": 193,
     "metadata": {},
     "output_type": "execute_result"
    }
   ],
   "source": [
    "lst1 = ['emp1', 'emp2', 'emp3']\n",
    "emp_key = ['e_name', 'e_id', 'e_sal']\n",
    "emp1_val = ['John', 'SG101', '$10,000']\n",
    "emp2_val = ['Smith', 'SG102', '$9,000']\n",
    "emp3_val = ['Peter', 'SG103', '$9,500']\n",
    "emp1=dict(zip(emp_key,emp1_val))\n",
    "emp2=dict(zip(emp_key,emp2_val))\n",
    "emp3=dict(zip(emp_key,emp3_val))\n",
    "lst2=[emp1,emp2,emp3]\n",
    "dep_detail=dict(zip(lst1,lst2))\n",
    "dep_detail"
   ]
  },
  {
   "cell_type": "code",
   "execution_count": null,
   "id": "cfde1017",
   "metadata": {},
   "outputs": [],
   "source": []
  },
  {
   "cell_type": "code",
   "execution_count": 174,
   "id": "b8dee5b6",
   "metadata": {},
   "outputs": [
    {
     "data": {
      "text/html": [
       "<div>\n",
       "<style scoped>\n",
       "    .dataframe tbody tr th:only-of-type {\n",
       "        vertical-align: middle;\n",
       "    }\n",
       "\n",
       "    .dataframe tbody tr th {\n",
       "        vertical-align: top;\n",
       "    }\n",
       "\n",
       "    .dataframe thead th {\n",
       "        text-align: right;\n",
       "    }\n",
       "</style>\n",
       "<table border=\"1\" class=\"dataframe\">\n",
       "  <thead>\n",
       "    <tr style=\"text-align: right;\">\n",
       "      <th></th>\n",
       "      <th>c1</th>\n",
       "      <th>c2</th>\n",
       "    </tr>\n",
       "  </thead>\n",
       "  <tbody>\n",
       "    <tr>\n",
       "      <th>0</th>\n",
       "      <td>10</td>\n",
       "      <td>100</td>\n",
       "    </tr>\n",
       "    <tr>\n",
       "      <th>1</th>\n",
       "      <td>11</td>\n",
       "      <td>110</td>\n",
       "    </tr>\n",
       "    <tr>\n",
       "      <th>2</th>\n",
       "      <td>12</td>\n",
       "      <td>120</td>\n",
       "    </tr>\n",
       "  </tbody>\n",
       "</table>\n",
       "</div>"
      ],
      "text/plain": [
       "   c1   c2\n",
       "0  10  100\n",
       "1  11  110\n",
       "2  12  120"
      ]
     },
     "execution_count": 174,
     "metadata": {},
     "output_type": "execute_result"
    }
   ],
   "source": [
    " import pandas as pd\n",
    " inp = [{'c1':10, 'c2':100}, {'c1':11,'c2':110}, {'c1':12,'c2':120}]\n",
    " df = pd.DataFrame(inp)\n",
    "df.head()"
   ]
  },
  {
   "cell_type": "code",
   "execution_count": 176,
   "id": "5eb17982",
   "metadata": {},
   "outputs": [
    {
     "name": "stdout",
     "output_type": "stream",
     "text": [
      "   c1   c2\n",
      "0  10  100\n",
      "   c1   c2\n",
      "1  11  110\n",
      "   c1   c2\n",
      "2  12  120\n"
     ]
    }
   ],
   "source": [
    "for i in range(len(df)):\n",
    "    row = df.iloc[[i]]\n",
    "    print(row)"
   ]
  },
  {
   "cell_type": "code",
   "execution_count": 168,
   "id": "fd50eb27",
   "metadata": {},
   "outputs": [
    {
     "name": "stdout",
     "output_type": "stream",
     "text": [
      "Iphone\n"
     ]
    }
   ],
   "source": [
    "salary=10000000\n",
    "\n",
    "if salary>100000:\n",
    "    print(\"Iphone\")\n",
    "else:\n",
    "    print(\"Redmi\")"
   ]
  },
  {
   "cell_type": "code",
   "execution_count": 162,
   "id": "4cb61827",
   "metadata": {},
   "outputs": [
    {
     "name": "stdout",
     "output_type": "stream",
     "text": [
      "abhishek karma\n"
     ]
    }
   ],
   "source": [
    "f_name=\"abhishek\"\n",
    "l_name=\"karma\"\n",
    "\n",
    "print(f_name+\" \"+l_name)"
   ]
  },
  {
   "cell_type": "code",
   "execution_count": 166,
   "id": "f5c7e472",
   "metadata": {},
   "outputs": [
    {
     "name": "stdout",
     "output_type": "stream",
     "text": [
      "paulpaulpaulpaulpaul\n"
     ]
    }
   ],
   "source": [
    "name=\"paul\"\n",
    "\n",
    "print(name*5)"
   ]
  },
  {
   "cell_type": "code",
   "execution_count": null,
   "id": "c376eafc",
   "metadata": {},
   "outputs": [],
   "source": []
  },
  {
   "cell_type": "code",
   "execution_count": null,
   "id": "1f7eac20",
   "metadata": {},
   "outputs": [],
   "source": []
  },
  {
   "cell_type": "code",
   "execution_count": 114,
   "id": "7e02a486",
   "metadata": {},
   "outputs": [
    {
     "name": "stdout",
     "output_type": "stream",
     "text": [
      "p\n"
     ]
    }
   ],
   "source": [
    "name=\"apple\"\n",
    "\n",
    "#[indexvalue]\n",
    "print(name[-4])"
   ]
  },
  {
   "cell_type": "code",
   "execution_count": 120,
   "id": "da2b636f",
   "metadata": {},
   "outputs": [
    {
     "name": "stdout",
     "output_type": "stream",
     "text": [
      "There is law in state\n"
     ]
    }
   ],
   "source": [
    "address=\"There is law in state\"\n",
    "print(address)"
   ]
  },
  {
   "cell_type": "code",
   "execution_count": 161,
   "id": "b7f7182a",
   "metadata": {},
   "outputs": [
    {
     "data": {
      "text/plain": [
       "'applei live in indore'"
      ]
     },
     "execution_count": 161,
     "metadata": {},
     "output_type": "execute_result"
    }
   ],
   "source": [
    "name+address"
   ]
  },
  {
   "cell_type": "code",
   "execution_count": 160,
   "id": "d58f62d2",
   "metadata": {},
   "outputs": [
    {
     "data": {
      "text/plain": [
       "54"
      ]
     },
     "execution_count": 160,
     "metadata": {},
     "output_type": "execute_result"
    }
   ],
   "source": [
    "import sys\n",
    "\n",
    "sys.getsizeof(name)"
   ]
  },
  {
   "cell_type": "code",
   "execution_count": 136,
   "id": "224cb45d",
   "metadata": {},
   "outputs": [
    {
     "name": "stdout",
     "output_type": "stream",
     "text": [
      "law\n"
     ]
    }
   ],
   "source": [
    "# 1st [inclusive:exclusive]\n",
    "# 2nd [inclusive:] -- from index till the end it will slice\n",
    "# 3rd [:exlusive] -slice from start till exclusive\n",
    "# 4th [inclusive:exclusive:jump]\n"
   ]
  },
  {
   "cell_type": "code",
   "execution_count": 151,
   "id": "271bb6dd",
   "metadata": {},
   "outputs": [
    {
     "name": "stdout",
     "output_type": "stream",
     "text": [
      "140698862567344\n",
      "140698751534192\n"
     ]
    }
   ],
   "source": [
    "x=\"apple\"\n",
    "y=x[2]\n",
    "print(id(x))\n",
    "print(id(x[0]))"
   ]
  },
  {
   "cell_type": "code",
   "execution_count": 171,
   "id": "ceae8459",
   "metadata": {},
   "outputs": [
    {
     "name": "stdout",
     "output_type": "stream",
     "text": [
      "i live in indore live\n",
      "17\n",
      "l\n"
     ]
    }
   ],
   "source": [
    "address=\"i live in indore live\"\n",
    "print(address)\n",
    "index_value=address.rindex(\"live\")\n",
    "print(index_value)\n",
    "slice_result=address[index_value]\n",
    "print(slice_result)"
   ]
  },
  {
   "cell_type": "code",
   "execution_count": 149,
   "id": "979a90f0",
   "metadata": {},
   "outputs": [
    {
     "data": {
      "text/plain": [
       "'There is law in state'"
      ]
     },
     "execution_count": 149,
     "metadata": {},
     "output_type": "execute_result"
    }
   ],
   "source": [
    "address"
   ]
  },
  {
   "cell_type": "code",
   "execution_count": 150,
   "id": "68edcb90",
   "metadata": {},
   "outputs": [
    {
     "data": {
      "text/plain": [
       "'T a e'"
      ]
     },
     "execution_count": 150,
     "metadata": {},
     "output_type": "execute_result"
    }
   ],
   "source": [
    "address[::5]"
   ]
  },
  {
   "cell_type": "code",
   "execution_count": 148,
   "id": "528b7d1a",
   "metadata": {},
   "outputs": [
    {
     "data": {
      "text/plain": [
       "'easn a ieeT'"
      ]
     },
     "execution_count": 148,
     "metadata": {},
     "output_type": "execute_result"
    }
   ],
   "source": [
    "address[::-2]"
   ]
  },
  {
   "cell_type": "code",
   "execution_count": 147,
   "id": "9000cfd0",
   "metadata": {},
   "outputs": [
    {
     "data": {
      "text/plain": [
       "'Teei a nsae'"
      ]
     },
     "execution_count": 147,
     "metadata": {},
     "output_type": "execute_result"
    }
   ],
   "source": [
    "address[::2]"
   ]
  },
  {
   "cell_type": "code",
   "execution_count": 140,
   "id": "2cad8410",
   "metadata": {},
   "outputs": [
    {
     "data": {
      "text/plain": [
       "'law in state'"
      ]
     },
     "execution_count": 140,
     "metadata": {},
     "output_type": "execute_result"
    }
   ],
   "source": [
    "address[9:22]"
   ]
  },
  {
   "cell_type": "code",
   "execution_count": 142,
   "id": "9d839526",
   "metadata": {},
   "outputs": [
    {
     "data": {
      "text/plain": [
       "'l  a'"
      ]
     },
     "execution_count": 142,
     "metadata": {},
     "output_type": "execute_result"
    }
   ],
   "source": [
    "address[9:22:3]"
   ]
  },
  {
   "cell_type": "code",
   "execution_count": 132,
   "id": "7d50017b",
   "metadata": {},
   "outputs": [
    {
     "data": {
      "text/plain": [
       "'There is '"
      ]
     },
     "execution_count": 132,
     "metadata": {},
     "output_type": "execute_result"
    }
   ],
   "source": [
    "address[:9]"
   ]
  },
  {
   "cell_type": "code",
   "execution_count": 131,
   "id": "81e0bcac",
   "metadata": {},
   "outputs": [
    {
     "data": {
      "text/plain": [
       "'law in state'"
      ]
     },
     "execution_count": 131,
     "metadata": {},
     "output_type": "execute_result"
    }
   ],
   "source": [
    "address[9:]"
   ]
  },
  {
   "cell_type": "code",
   "execution_count": 128,
   "id": "994d9ad3",
   "metadata": {},
   "outputs": [
    {
     "data": {
      "text/plain": [
       "'state'"
      ]
     },
     "execution_count": 128,
     "metadata": {},
     "output_type": "execute_result"
    }
   ],
   "source": [
    "address[16:25]"
   ]
  },
  {
   "cell_type": "code",
   "execution_count": 110,
   "id": "883da38f",
   "metadata": {},
   "outputs": [
    {
     "name": "stdout",
     "output_type": "stream",
     "text": [
      "1\n"
     ]
    }
   ],
   "source": [
    "print(name.index(\"p\"))"
   ]
  },
  {
   "cell_type": "code",
   "execution_count": 111,
   "id": "24da320f",
   "metadata": {},
   "outputs": [
    {
     "data": {
      "text/plain": [
       "140698862567344"
      ]
     },
     "execution_count": 111,
     "metadata": {},
     "output_type": "execute_result"
    }
   ],
   "source": [
    "id(name)"
   ]
  },
  {
   "cell_type": "code",
   "execution_count": 98,
   "id": "060ad6da",
   "metadata": {},
   "outputs": [
    {
     "ename": "IndexError",
     "evalue": "string index out of range",
     "output_type": "error",
     "traceback": [
      "\u001b[0;31m---------------------------------------------------------------------------\u001b[0m",
      "\u001b[0;31mIndexError\u001b[0m                                Traceback (most recent call last)",
      "\u001b[0;32m/var/folders/5p/f9n8xtwn5c9_kq2bc72mf9p00000gn/T/ipykernel_46866/1220200078.py\u001b[0m in \u001b[0;36m<module>\u001b[0;34m\u001b[0m\n\u001b[0;32m----> 1\u001b[0;31m \u001b[0mname\u001b[0m\u001b[0;34m[\u001b[0m\u001b[0;36m7\u001b[0m\u001b[0;34m]\u001b[0m\u001b[0;34m\u001b[0m\u001b[0;34m\u001b[0m\u001b[0m\n\u001b[0m",
      "\u001b[0;31mIndexError\u001b[0m: string index out of range"
     ]
    }
   ],
   "source": [
    "name[7]"
   ]
  },
  {
   "cell_type": "code",
   "execution_count": 87,
   "id": "15281aa5",
   "metadata": {},
   "outputs": [],
   "source": [
    "n=a+3j"
   ]
  },
  {
   "cell_type": "code",
   "execution_count": 88,
   "id": "8ca0a553",
   "metadata": {},
   "outputs": [
    {
     "data": {
      "text/plain": [
       "complex"
      ]
     },
     "execution_count": 88,
     "metadata": {},
     "output_type": "execute_result"
    }
   ],
   "source": [
    "type(n)"
   ]
  },
  {
   "cell_type": "code",
   "execution_count": 90,
   "id": "7a62d626",
   "metadata": {},
   "outputs": [
    {
     "data": {
      "text/plain": [
       "str"
      ]
     },
     "execution_count": 90,
     "metadata": {},
     "output_type": "execute_result"
    }
   ],
   "source": [
    "addres=\"Hi this is king\"\n",
    "\n",
    "type(addres)"
   ]
  },
  {
   "cell_type": "code",
   "execution_count": 74,
   "id": "79393996",
   "metadata": {},
   "outputs": [
    {
     "name": "stdout",
     "output_type": "stream",
     "text": [
      "Hi this i's jack\n",
      "Hi this i\t jack\n"
     ]
    }
   ],
   "source": [
    "print(\"Hi this i\\'s jack\")\n",
    "print(\"Hi this i\\t jack\")"
   ]
  },
  {
   "cell_type": "code",
   "execution_count": 77,
   "id": "ec24f132",
   "metadata": {},
   "outputs": [
    {
     "name": "stdout",
     "output_type": "stream",
     "text": [
      "13\n",
      "hey\n",
      "hoeareyou\n",
      "hey\n",
      "hoeareyou\n",
      "13\n"
     ]
    }
   ],
   "source": [
    "docstr=\"\"\"hey\n",
    "hoeareyou\"\"\"\n",
    "\n",
    "print(len(docstr))\n",
    "\n",
    "print(docstr)\n",
    "\n",
    "\n",
    "char1=\"hey\\nhoeareyou\"\n",
    "print(char1)\n",
    "print(len(char1))\n",
    "\n"
   ]
  },
  {
   "cell_type": "code",
   "execution_count": 56,
   "id": "1ebe575d",
   "metadata": {},
   "outputs": [
    {
     "name": "stdout",
     "output_type": "stream",
     "text": [
      "End\n"
     ]
    }
   ],
   "source": [
    "if age \\\n",
    "> 18:\n",
    "    print(\"Hi i am inside if\")\n",
    "    print(\"Byeee\")\n",
    "\n",
    "print(\"End\")"
   ]
  },
  {
   "cell_type": "code",
   "execution_count": null,
   "id": "dc987074",
   "metadata": {},
   "outputs": [],
   "source": [
    "loops\n",
    "class\n",
    "functions\n",
    "if\n"
   ]
  },
  {
   "cell_type": "code",
   "execution_count": null,
   "id": "35733aa5",
   "metadata": {},
   "outputs": [],
   "source": []
  },
  {
   "cell_type": "code",
   "execution_count": 53,
   "id": "3e19d85b",
   "metadata": {},
   "outputs": [
    {
     "name": "stdout",
     "output_type": "stream",
     "text": [
      "Hello\n",
      "jack\n",
      "Hello\n",
      "jack\n",
      "Hello\n",
      "jack\n",
      "Sam\n"
     ]
    }
   ],
   "source": [
    "for i in range(3):\n",
    "    print(\"Hello\")\n",
    "    print(\"jack\")\n",
    "print(\"Sam\")\n",
    "\n"
   ]
  },
  {
   "cell_type": "code",
   "execution_count": 2,
   "id": "11eacbce",
   "metadata": {},
   "outputs": [
    {
     "name": "stdout",
     "output_type": "stream",
     "text": [
      "['False', 'None', 'True', '__peg_parser__', 'and', 'as', 'assert', 'async', 'await', 'break', 'class', 'continue', 'def', 'del', 'elif', 'else', 'except', 'finally', 'for', 'from', 'global', 'if', 'import', 'in', 'is', 'lambda', 'nonlocal', 'not', 'or', 'pass', 'raise', 'return', 'try', 'while', 'with', 'yield']\n"
     ]
    }
   ],
   "source": [
    "\n",
    "import keyword\n",
    "\n",
    "print(keyword.kwlist)\n"
   ]
  },
  {
   "cell_type": "code",
   "execution_count": 18,
   "id": "cfd6d44d",
   "metadata": {},
   "outputs": [
    {
     "ename": "SyntaxError",
     "evalue": "invalid syntax (514222145.py, line 1)",
     "output_type": "error",
     "traceback": [
      "\u001b[0;36m  File \u001b[0;32m\"/var/folders/5p/f9n8xtwn5c9_kq2bc72mf9p00000gn/T/ipykernel_46866/514222145.py\"\u001b[0;36m, line \u001b[0;32m1\u001b[0m\n\u001b[0;31m    class =10\u001b[0m\n\u001b[0m          ^\u001b[0m\n\u001b[0;31mSyntaxError\u001b[0m\u001b[0;31m:\u001b[0m invalid syntax\n"
     ]
    }
   ],
   "source": [
    "docstr=\"\"\"hey\n",
    "hoeareyou\"\"\"\n",
    "len(docstr)\n",
    "13\n",
    ">>> docstr\n",
    "'hey\\nhoeareyou'\n",
    ">>> char1=\"\\n\"\n",
    ">>> len(char1)\n",
    "1\n",
    ">>> str4=input(\"press the Enter key:\")\n",
    "press the Enter key:\n",
    ">>> char1==str4\n",
    "False"
   ]
  },
  {
   "cell_type": "code",
   "execution_count": 15,
   "id": "a47f3139",
   "metadata": {},
   "outputs": [],
   "source": [
    "class employee:\n",
    "    \"\"\"\n",
    "    This class is for employee\n",
    "    \"\"\"\n",
    "    pass"
   ]
  },
  {
   "cell_type": "code",
   "execution_count": 16,
   "id": "86f8a2d8",
   "metadata": {},
   "outputs": [
    {
     "data": {
      "text/plain": [
       "'\\n    This class is for employee\\n    '"
      ]
     },
     "execution_count": 16,
     "metadata": {},
     "output_type": "execute_result"
    }
   ],
   "source": [
    "employee.__doc__"
   ]
  },
  {
   "cell_type": "code",
   "execution_count": 12,
   "id": "417f942d",
   "metadata": {},
   "outputs": [],
   "source": [
    "def add_two_numbers(first_number,second_number):\n",
    "    \"\"\"\n",
    "    This function is used to add two numbers and \n",
    "    returns the result\n",
    "    \"\"\"\n",
    "    return first_number+second_number"
   ]
  },
  {
   "cell_type": "code",
   "execution_count": 14,
   "id": "f07c5934",
   "metadata": {},
   "outputs": [
    {
     "data": {
      "text/plain": [
       "'\\n    This function is used to add two numbers and \\n    returns the result\\n    '"
      ]
     },
     "execution_count": 14,
     "metadata": {},
     "output_type": "execute_result"
    }
   ],
   "source": [
    "add_two_numbers.__doc__"
   ]
  },
  {
   "cell_type": "code",
   "execution_count": 13,
   "id": "bbf48b4e",
   "metadata": {},
   "outputs": [
    {
     "data": {
      "text/plain": [
       "5"
      ]
     },
     "execution_count": 13,
     "metadata": {},
     "output_type": "execute_result"
    }
   ],
   "source": [
    "add_two_numbers(2,3)"
   ]
  },
  {
   "cell_type": "code",
   "execution_count": 59,
   "id": "a2f37fd6",
   "metadata": {},
   "outputs": [
    {
     "name": "stdout",
     "output_type": "stream",
     "text": [
      "36\n"
     ]
    }
   ],
   "source": [
    "print(len(keyword.kwlist))\n"
   ]
  },
  {
   "cell_type": "code",
   "execution_count": 9,
   "id": "5b02f20c",
   "metadata": {},
   "outputs": [
    {
     "name": "stdout",
     "output_type": "stream",
     "text": [
      "asd\n"
     ]
    }
   ],
   "source": [
    "# asdasdasd declaring interets rates\n",
    "\n",
    "\"\"\"\n",
    "hey\n",
    "How are you\n",
    "\"\"\"\n",
    "print(\"asd\")"
   ]
  },
  {
   "cell_type": "code",
   "execution_count": 7,
   "id": "f3c5dec9",
   "metadata": {},
   "outputs": [
    {
     "name": "stdout",
     "output_type": "stream",
     "text": [
      "7.4\n"
     ]
    }
   ],
   "source": [
    "\n",
    "HOME_LOAN_INTEREST=7.4\n",
    "\n",
    "print(HOME_LOAN_INTEREST)"
   ]
  },
  {
   "cell_type": "code",
   "execution_count": 2,
   "id": "3ddaaa21",
   "metadata": {},
   "outputs": [
    {
     "name": "stdout",
     "output_type": "stream",
     "text": [
      "15\n"
     ]
    }
   ],
   "source": [
    "LENGTH = 5\n",
    "length = 10\n",
    "LENGTH = length + 5\n",
    "print(LENGTH)"
   ]
  },
  {
   "cell_type": "code",
   "execution_count": 91,
   "id": "613a10b1",
   "metadata": {},
   "outputs": [
    {
     "name": "stdout",
     "output_type": "stream",
     "text": [
      "15\n"
     ]
    }
   ],
   "source": [
    "LENGTH = 5\n",
    "length = 10\n",
    "LENGTH = length + 5\n",
    "print(LENGTH)"
   ]
  },
  {
   "cell_type": "code",
   "execution_count": 90,
   "id": "237a8207",
   "metadata": {},
   "outputs": [
    {
     "data": {
      "text/plain": [
       "140364849748592"
      ]
     },
     "execution_count": 90,
     "metadata": {},
     "output_type": "execute_result"
    }
   ],
   "source": [
    "id(lengtH)"
   ]
  },
  {
   "cell_type": "code",
   "execution_count": 89,
   "id": "c9b86d52",
   "metadata": {},
   "outputs": [
    {
     "data": {
      "text/plain": [
       "140364849749840"
      ]
     },
     "execution_count": 89,
     "metadata": {},
     "output_type": "execute_result"
    }
   ],
   "source": [
    "id(lenght)"
   ]
  },
  {
   "cell_type": "code",
   "execution_count": 88,
   "id": "77461046",
   "metadata": {},
   "outputs": [
    {
     "data": {
      "text/plain": [
       "140364849749680"
      ]
     },
     "execution_count": 88,
     "metadata": {},
     "output_type": "execute_result"
    }
   ],
   "source": [
    "id(LENGTH)"
   ]
  },
  {
   "cell_type": "code",
   "execution_count": 75,
   "id": "0cec3c7f",
   "metadata": {},
   "outputs": [],
   "source": [
    "PI=3.14\n",
    "\n",
    "INTEREST_RATE = 7.4"
   ]
  },
  {
   "cell_type": "code",
   "execution_count": 62,
   "id": "616253d4",
   "metadata": {},
   "outputs": [],
   "source": [
    "no_of_students=36"
   ]
  },
  {
   "cell_type": "code",
   "execution_count": 61,
   "id": "4463016d",
   "metadata": {},
   "outputs": [
    {
     "name": "stdout",
     "output_type": "stream",
     "text": [
      "2333.45\n"
     ]
    }
   ],
   "source": [
    "salary=2333.45\n",
    "\n",
    "print(salary)"
   ]
  },
  {
   "cell_type": "code",
   "execution_count": null,
   "id": "93893a42",
   "metadata": {},
   "outputs": [],
   "source": [
    "def calculate_salary():\n",
    "    pass\n"
   ]
  },
  {
   "cell_type": "code",
   "execution_count": 45,
   "id": "03f035f6",
   "metadata": {},
   "outputs": [],
   "source": [
    "class employee:\n",
    "    pass"
   ]
  },
  {
   "cell_type": "code",
   "execution_count": 39,
   "id": "5d15542d",
   "metadata": {},
   "outputs": [],
   "source": [
    "age=10\n",
    "\n",
    "name=\"jack\"\n",
    "\n",
    "\n",
    "\n",
    "\n",
    "salary=45000.50\n",
    "flag=True\n",
    "height=None\n",
    "gst=2.8"
   ]
  },
  {
   "cell_type": "code",
   "execution_count": 40,
   "id": "666a5396",
   "metadata": {},
   "outputs": [
    {
     "data": {
      "text/plain": [
       "str"
      ]
     },
     "execution_count": 40,
     "metadata": {},
     "output_type": "execute_result"
    }
   ],
   "source": [
    "type(name)"
   ]
  },
  {
   "cell_type": "code",
   "execution_count": 38,
   "id": "fd079347",
   "metadata": {},
   "outputs": [
    {
     "data": {
      "text/plain": [
       "5"
      ]
     },
     "execution_count": 38,
     "metadata": {},
     "output_type": "execute_result"
    }
   ],
   "source": [
    "len(name)"
   ]
  },
  {
   "cell_type": "code",
   "execution_count": 9,
   "id": "54e5d431",
   "metadata": {},
   "outputs": [],
   "source": [
    "add=\"Mumbai near marine drive\""
   ]
  },
  {
   "cell_type": "code",
   "execution_count": 8,
   "id": "5d2fb5d5",
   "metadata": {},
   "outputs": [
    {
     "data": {
      "text/plain": [
       "'Mumbai near marine drive'"
      ]
     },
     "execution_count": 8,
     "metadata": {},
     "output_type": "execute_result"
    }
   ],
   "source": [
    "add"
   ]
  },
  {
   "cell_type": "code",
   "execution_count": null,
   "id": "0d9b10a5",
   "metadata": {},
   "outputs": [],
   "source": []
  }
 ],
 "metadata": {
  "kernelspec": {
   "display_name": "Python 3 (ipykernel)",
   "language": "python",
   "name": "python3"
  },
  "language_info": {
   "codemirror_mode": {
    "name": "ipython",
    "version": 3
   },
   "file_extension": ".py",
   "mimetype": "text/x-python",
   "name": "python",
   "nbconvert_exporter": "python",
   "pygments_lexer": "ipython3",
   "version": "3.9.7"
  }
 },
 "nbformat": 4,
 "nbformat_minor": 5
}
