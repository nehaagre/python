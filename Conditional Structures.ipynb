{
 "cells": [
  {
   "cell_type": "markdown",
   "id": "bd7caacd",
   "metadata": {},
   "source": [
    "### Conditional Structures\n",
    "\n",
    "1. Write a program that prompts the user to input a number and display if the number is even or odd. \n",
    "\n",
    "2. Write a program that prompts the user to input two integers and outputs the largest. \n",
    "\n",
    "3. Write a program that prompts the user to input three integers and outputs the largest. \n",
    "\n",
    "4. Write a program that prompts the user to input a year and determine whether the year is a leap year or not.\n",
    "Leap Years are any year that can be evenly divided by 4. A year that is evenly divisible by 100 is a leap year only if it is also evenly divisible by 400. Example :\n",
    "\n",
    "1992\tLeap Year\n",
    "2000\tLeap Year\n",
    "1900\tNOT a Leap Year\n",
    "1995\tNOT a Leap Year  Solution\n",
    "5. Write a program that prompts the user to input number of calls and calculate the monthly telephone bills as per the following rule:\n",
    "Minimum Rs. 200 for up to 100 calls.\n",
    "Plus Rs. 0.60 per call for next 50 calls.\n",
    "Plus Rs. 0.50 per call for next 50 calls.\n",
    "Plus Rs. 0.40 per call for any call beyond 200 calls. Solution\n",
    "\n",
    "6. The roots of the quadratic equation ax2 + bx + c = 0, a ≠ 0 are given by the following formula: \n",
    "\n",
    "In this formula, the term b2 - 4ac is called the discriminant. If b2 - 4ac = 0, then the equation has two equal roots.\n",
    "If b2 - 4ac > 0, the equation has two real roots. If b2 - 4ac < 0, the equation has two complex roots.\n",
    "\n",
    "Write a program that prompts the user to input the value of a (the coefficient of x2), b (the coefficient of x), and c (the constant term) and outputs the roots of the quadratic equation. Solution\n",
    "\n",
    "7. The marks obtained by a student in 3 different subjects are input by the user. Your program should calculate the average of subjects and display the grade. The student gets a grade as per the following rules:\n",
    "\n",
    "Average\tGrade\n",
    "90-100\tA\n",
    "80-89\tB\n",
    "70-79\tC\n",
    "60-69\tD\n",
    "0-59\tF Solution\n",
    "8. Write a program that prompts the user to input a number. Program should display the corresponding days to the number. For example if user type 1 the output should be sunday. If user type 7 the output should be saturday. \n",
    "\n",
    "9. Write a program that prompts the user to input a character and determine the character is vowel or consonant. "
   ]
  },
  {
   "cell_type": "code",
   "execution_count": null,
   "id": "214f2654",
   "metadata": {},
   "outputs": [],
   "source": []
  }
 ],
 "metadata": {
  "kernelspec": {
   "display_name": "Python 3 (ipykernel)",
   "language": "python",
   "name": "python3"
  },
  "language_info": {
   "codemirror_mode": {
    "name": "ipython",
    "version": 3
   },
   "file_extension": ".py",
   "mimetype": "text/x-python",
   "name": "python",
   "nbconvert_exporter": "python",
   "pygments_lexer": "ipython3",
   "version": "3.9.7"
  }
 },
 "nbformat": 4,
 "nbformat_minor": 5
}
