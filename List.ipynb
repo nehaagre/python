{
 "cells": [
  {
   "cell_type": "markdown",
   "id": "d6f391ec",
   "metadata": {},
   "source": [
    "### Lists\n",
    "\n",
    "1. Write a program that accepts a list from user and print the alternate element of list. \n",
    "\n",
    "2. Write a program that accepts a list from user. Your program should reverse the content of list and display it. Do not use reverse() method. \n",
    "\n",
    "3. Find and display the largest number of a list without using built-in function max(). Your program should ask the user to input values in list from keyboard. \n",
    "\n",
    "4. Write a program that rotates the element of a list so that the element at the first index moves to the second index, the element in the second index moves to the third index, etc., and the element in the last index moves to the first index. \n",
    "\n",
    "5. Write a program that input a string and ask user to delete a given word from a string. \n",
    "\n",
    "6. Write a program that reads a string from the user containing a date in the form mm/dd/yyyy. It should print the date in the form March 12, 2021. \n",
    "\n",
    "7. Write a program with a function that accepts a string from keyboard and create a new string after converting character of each word capitalized. For instance, if the sentence is \"stop and smell the roses.\" the output should be \"Stop And Smell The Roses\"\n",
    "\n",
    "8. Find the sum of each row of matrix of size m x n. For example for the following matrix output will be like this :\n",
    "\n",
    "\n",
    "Sum of row 1 = 32\n",
    "Sum of row 2 = 31\n",
    "Sum of row 3 = 63\n",
    "Solution\n",
    "9. Write a program to add two matrices of size n x m.\n",
    "\n",
    "10. Write a program to multiply two matrices"
   ]
  },
  {
   "cell_type": "code",
   "execution_count": null,
   "id": "a4ab7211",
   "metadata": {},
   "outputs": [],
   "source": []
  }
 ],
 "metadata": {
  "kernelspec": {
   "display_name": "Python 3 (ipykernel)",
   "language": "python",
   "name": "python3"
  },
  "language_info": {
   "codemirror_mode": {
    "name": "ipython",
    "version": 3
   },
   "file_extension": ".py",
   "mimetype": "text/x-python",
   "name": "python",
   "nbconvert_exporter": "python",
   "pygments_lexer": "ipython3",
   "version": "3.9.7"
  }
 },
 "nbformat": 4,
 "nbformat_minor": 5
}
