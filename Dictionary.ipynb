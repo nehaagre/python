{
 "cells": [
  {
   "cell_type": "markdown",
   "id": "9702694b",
   "metadata": {},
   "source": [
    "### Dictionary\n",
    "\n",
    "1. Write a program that reads a string from keyboard and prints the unique words. Your program should convert input string to lower case.\n",
    "\n",
    "2. Write a program that reads a string from keyboard and prints the letters in decreasing order of frequency. Your program should convert all the input to lower case and only count the letters a-z. Your program should not count spaces, digits, punctuation or anything other than the letters a-z.\n",
    "\n",
    "3. Write a program that accepts a string and change its lowercase vowels to special character as given below:\n",
    "\n",
    "a #\n",
    "e @\n",
    "i $\n",
    "o %\n",
    "u !\n",
    "4. Write a program that reads two strings from keyboard and prints the common words. Your program should convert input string to lower case.\n",
    "\n",
    "5. Write a program that keeps student's name and his marks in a dictionary as key-value pairs. The program should store records of 10 students and display students name and marks of five students in decreasing order of marks obtained.\n",
    "\n",
    "6. Write a program that keeps name and birthday in a dictionary as key-value pairs. The program should display a menu that lets the user search a person’s birthday, add a new name and birthday, change an existing birthday, and delete an existing name and birthday."
   ]
  },
  {
   "cell_type": "code",
   "execution_count": null,
   "id": "2df486b6",
   "metadata": {},
   "outputs": [],
   "source": []
  }
 ],
 "metadata": {
  "kernelspec": {
   "display_name": "Python 3 (ipykernel)",
   "language": "python",
   "name": "python3"
  },
  "language_info": {
   "codemirror_mode": {
    "name": "ipython",
    "version": 3
   },
   "file_extension": ".py",
   "mimetype": "text/x-python",
   "name": "python",
   "nbconvert_exporter": "python",
   "pygments_lexer": "ipython3",
   "version": "3.9.7"
  }
 },
 "nbformat": 4,
 "nbformat_minor": 5
}
