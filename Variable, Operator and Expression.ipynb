{
 "cells": [
  {
   "cell_type": "markdown",
   "id": "5474b024",
   "metadata": {},
   "source": [
    "### Variable, Operator and Expression\n",
    "\n",
    "1. Write a program that asks the user for his name and then welcomes him. The output should look like this :\n",
    "\n",
    "Enter your name : Saksham\n",
    "Hello Saksham\n",
    "Solution\n",
    "2. Write a program that prompts the user to enter two integers and display the total on the screen. Solution\n",
    "\n",
    "3. Write a program that prompts the user to input a Celsius temperature and outputs the equivalent temperature in Fahrenheit. The formula to convert the temperature is: F = 9/5 C + 32 where F is the Fahrenheit temperature and C is the Celsius temperature. Solution\n",
    "\n",
    "4. Write a program which accept principle, rate and time from user and print the simple interest. The formula to calculate simple interest is: simple interest = principle x rate x time / 100 Solution\n",
    "\n",
    "5. Write a program that accepts seconds from keyboard as integer. Your program should converts seconds in hours, minutes and seconds. Your output should like this :\n",
    "\n",
    "Enter seconds: 13400\n",
    "Hours: 3\n",
    "Minutes: 43\n",
    "Seconds: 20  Solution\n",
    "6. Write a program that prompts the user to enter number in two variables and swap the contents of the variables. Solution\n",
    "\n",
    "7. Write a program that prompts the user to enter number in two variables and swap the contents of the variables.(Do not declare extra variable.) Solution\n",
    "\n",
    "8. Write a program that prompts the user to input the radius of a circle and outputs the area and circumference of the circle. The formula is\n",
    "Area = pi x radius2\n",
    "Circumference = 2 x pi x radius Solution"
   ]
  },
  {
   "cell_type": "code",
   "execution_count": null,
   "id": "20e7f441",
   "metadata": {},
   "outputs": [],
   "source": []
  }
 ],
 "metadata": {
  "kernelspec": {
   "display_name": "Python 3 (ipykernel)",
   "language": "python",
   "name": "python3"
  },
  "language_info": {
   "codemirror_mode": {
    "name": "ipython",
    "version": 3
   },
   "file_extension": ".py",
   "mimetype": "text/x-python",
   "name": "python",
   "nbconvert_exporter": "python",
   "pygments_lexer": "ipython3",
   "version": "3.9.7"
  }
 },
 "nbformat": 4,
 "nbformat_minor": 5
}
