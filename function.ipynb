{
 "cells": [
  {
   "cell_type": "code",
   "execution_count": null,
   "id": "395f3833",
   "metadata": {},
   "outputs": [],
   "source": [
    "Function\n",
    "[Set – 1]\n",
    "1. Write a function find_max that accepts three numbers as arguments and returns the largest number among three. Write another function main, in main() function accept three numbers from user and call find_max. Solution\n",
    "\n",
    "2. Write a function, is_vowel that returns the value true if a given character is a vowel, and otherwise returns false. Write another function main, in main() function accept a string from user and count number of vowels in that string. Solution\n",
    "\n",
    "3. Write a function named is_prime, which takes an integer as an argument and returns true if the argument is a prime number, or false otherwise. Also, write the main function that displays prime numbers between 1 to 500. Solution\n",
    "\n",
    "4. Write a function in python to find the sum of the cube of elements in a list. The list is received as an argument to the function, in turn, the function must return the sum. Write the main function which invokes the above function. Solution\n",
    "\n",
    "5. Write the definition of a function zero_ending(scores) to add all those values in the list of scores, which are ending with zero and display the sum.\n",
    "\n",
    "For example: If the scores contain [200, 456, 300, 100, 234, 678] The sum should be displayed as 600. Solution\n",
    "\n",
    "6. Write a definition of a method count_now(places) to find and display those place names, in which there are more than 5 characters.\n",
    "\n",
    "For example :\n",
    "If the list places contains\n",
    "[\"DELHI\",\"LONDON\",\"PARIS\",\"NEW YORK\",\"DUBAI\"]\n",
    "The following should get displayed :\n",
    "LONDON\n",
    "NEW YORK Solution\n",
    "\n",
    "7. Write a method in python to display the elements of list thrice if it is a number and display the element terminated with ‘#’ if it is not a number.\n",
    "\n",
    "For example, if the content of list is as follows :\n",
    "ThisList=[‘41’,‘DROND’,‘GIRIRAJ’, ‘13’,‘ZARA’]\n",
    "The output should be\n",
    "414141\n",
    "DROND#\n",
    "GIRIRAJ#\n",
    "131313\n",
    "ZARA# Solution\n",
    "\n",
    "8. For a given list of values in descending order, write a method in python to search for a value with the help of Binary Search method. The method should return position of the value and should return -1 if the value not present in the list. Solution\n",
    "\n",
    "9. Write a function half_and_half that takes in a list and change the list such that the elements of the second half are now in the first half.\n",
    "\n",
    "For example, if the size of list is even and content of list is as follows :\n",
    "my_liist = [10,20,30,40,50,60]\n",
    "The output should be\n",
    "[40,50,60,10,20,30]\n",
    "if the size of list is odd and content of list is as follows :\n",
    "my_liist = [10,20,30,40,50,60,70]\n",
    "The output should be\n",
    "[50,60,70,40,10,20,30] Solution\n",
    "\n",
    "10. Write a function that accepts a dictionary as an argument. If the dictionary contains replicate values, return an empty dictionary, otherwise, return a new dictionary whose values are now the keys and whose keys are the values. Solution"
   ]
  }
 ],
 "metadata": {
  "kernelspec": {
   "display_name": "Python 3 (ipykernel)",
   "language": "python",
   "name": "python3"
  },
  "language_info": {
   "codemirror_mode": {
    "name": "ipython",
    "version": 3
   },
   "file_extension": ".py",
   "mimetype": "text/x-python",
   "name": "python",
   "nbconvert_exporter": "python",
   "pygments_lexer": "ipython3",
   "version": "3.9.7"
  }
 },
 "nbformat": 4,
 "nbformat_minor": 5
}
